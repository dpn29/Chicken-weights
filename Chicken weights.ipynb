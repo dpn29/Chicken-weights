{
 "cells": [
  {
   "cell_type": "code",
   "execution_count": 1,
   "metadata": {},
   "outputs": [],
   "source": [
    "import pandas as pd\n",
    "from scipy import linalg\n",
    "from scipy.stats import f,t\n",
    "import numpy as np\n",
    "from collections import Counter\n",
    "data=pd.read_csv(\"chickwts.csv\")"
   ]
  },
  {
   "cell_type": "code",
   "execution_count": 2,
   "metadata": {},
   "outputs": [],
   "source": [
    "Y=data['weight'].values\n",
    "p=len(set(data['feed']))\n",
    "n=len(Y)\n",
    "feed_numbers=list(Counter(data['feed']).values())\n",
    "X=np.zeros([n,p])\n",
    "for j in range(p):\n",
    "    for i in range(n):\n",
    "        if i in range(int(np.sum(feed_numbers[0:j])), int(np.sum(feed_numbers[0:j+1]))):\n",
    "            X[i][j]=1\n",
    "beta_hat=linalg.inv(X.T@X)@X.T@Y\n",
    "sigma_square_hat=linalg.norm(Y-X@beta_hat)**2/n\n",
    "sigma_square_tilde=sigma_square_hat*n/(n-p)\n",
    "confidence=0.95\n",
    "A=X.T@X/(p*sigma_square_tilde*f.ppf(q=confidence, dfn=p, dfd=n-p))"
   ]
  },
  {
   "cell_type": "code",
   "execution_count": 3,
   "metadata": {},
   "outputs": [
    {
     "name": "stdout",
     "output_type": "stream",
     "text": [
      "The realisation of the random set C(Y) for 0.95 confidence is the ellipsoid {x: (v-x)'A(v-x)<1}, where\n",
      "v= \n",
      " [160.2        218.75       246.42857143 328.91666667 276.90909091\n",
      " 323.58333333]\n",
      "A= \n",
      " [[0.00024712 0.         0.         0.         0.         0.        ]\n",
      " [0.         0.00029655 0.         0.         0.         0.        ]\n",
      " [0.         0.         0.00034597 0.         0.         0.        ]\n",
      " [0.         0.         0.         0.00029655 0.         0.        ]\n",
      " [0.         0.         0.         0.         0.00027183 0.        ]\n",
      " [0.         0.         0.         0.         0.         0.00029655]]\n",
      "That is, x is in the confidence set if the following is satisified:\n",
      "0.0002471214125534801 ( 160.20000000000002 -x_ 1 )^2+\n",
      "0.0002965456950641761 ( 218.74999999999997 -x_ 2 )^2+\n",
      "0.0003459699775748721 ( 246.42857142857142 -x_ 3 )^2+\n",
      "0.0002965456950641761 ( 328.91666666666663 -x_ 4 )^2+\n",
      "0.0002718335538088281 ( 276.90909090909093 -x_ 5 )^2+\n",
      "0.0002965456950641761 ( 323.5833333333333 -x_ 6 )^2    <   1\n"
     ]
    }
   ],
   "source": [
    "print(\"The realisation of the random set C(Y) for\",confidence,\"confidence is the ellipsoid {x: (v-x)'A(v-x)<1}, where\")\n",
    "print(\"v= \\n\", beta_hat)\n",
    "print(\"A= \\n\", A)\n",
    "print(\"That is, x is in the confidence set if the following is satisified:\")\n",
    "for i in range(p):\n",
    "    if i!=p-1:\n",
    "        print(A[i][i],'(',beta_hat[i],'-x_',i+1,')^2+') #this uses that A is diagonal because all the variables are dummy\n",
    "    else:\n",
    "        print(A[i][i],'(',beta_hat[i],'-x_',i+1,')^2    <   1')"
   ]
  },
  {
   "cell_type": "code",
   "execution_count": 4,
   "metadata": {},
   "outputs": [
    {
     "name": "stdout",
     "output_type": "stream",
     "text": [
      "An alternative confidence set, which is a hyperrectangle, is given by those vectors x that satisfy:\n",
      "x_ 1 in [ 117.71923926647509 , 202.68076073352495 ]\n",
      "x_ 2 in [ 179.97054847711445 , 257.5294515228855 ]\n",
      "x_ 3 in [ 210.5257757505287 , 282.3313671066141 ]\n",
      "x_ 4 in [ 290.1372151437811 , 367.6961181895522 ]\n",
      "x_ 5 in [ 236.40527478698175 , 317.4129070312001 ]\n",
      "x_ 6 in [ 284.8038818104478 , 362.3627848562188 ]\n"
     ]
    }
   ],
   "source": [
    "individual_confidence=confidence**(1/p)\n",
    "print(\"An alternative confidence set, which is a hyperrectangle, is given by those vectors x that satisfy:\")\n",
    "for i in range(p): #this uses that A is diagonal because all the variables are dummy\n",
    "    print(\"x_\",i+1,\"in [\",beta_hat[i] - t.ppf(q=individual_confidence, df=n-p)*np.sqrt(sigma_square_tilde)*linalg.sqrtm(linalg.inv(X.T@X))[i][i],\",\",beta_hat[i] + t.ppf(q=individual_confidence, df=n-p)*np.sqrt(sigma_square_tilde)*linalg.sqrtm(linalg.inv(X.T@X))[i][i],\"]\")"
   ]
  },
  {
   "cell_type": "code",
   "execution_count": 5,
   "metadata": {
    "scrolled": true
   },
   "outputs": [
    {
     "name": "stdout",
     "output_type": "stream",
     "text": [
      "The individual confidence intervals are:\n",
      "for Beta_ 1 : [ 125.55927500299106 , 194.84072499700898 ]\n",
      "for Beta_ 2 : [ 187.12748918467517 , 250.37251081532477 ]\n",
      "for Beta_ 3 : [ 217.1518153104688 , 275.705327546674 ]\n",
      "for Beta_ 4 : [ 297.2941558513418 , 360.53917748199143 ]\n",
      "for Beta_ 5 : [ 243.88045556009826 , 309.9377262580836 ]\n",
      "for Beta_ 6 : [ 291.9608225180085 , 355.2058441486581 ]\n"
     ]
    }
   ],
   "source": [
    "lower_ends=[]\n",
    "upper_ends=[]\n",
    "for i in range(p):\n",
    "    lower_ends.append(beta_hat[i] - t.ppf(q=0.5+confidence/2, df=n-p)*np.sqrt(sigma_square_tilde)*linalg.sqrtm(linalg.inv(X.T@X))[i][i])\n",
    "    upper_ends.append(beta_hat[i] + t.ppf(q=0.5+confidence/2, df=n-p)*np.sqrt(sigma_square_tilde)*linalg.sqrtm(linalg.inv(X.T@X))[i][i])\n",
    "print(\"The individual confidence intervals are:\")\n",
    "for i in range(p):\n",
    "    print('for Beta_',i+1,\": [\", lower_ends[i],\",\",upper_ends[i],\"]\")"
   ]
  },
  {
   "cell_type": "code",
   "execution_count": 6,
   "metadata": {},
   "outputs": [
    {
     "name": "stdout",
     "output_type": "stream",
     "text": [
      "The intervals for the following parameters exclude the overall mean:\n",
      "Beta_ 1\n",
      "Beta_ 2\n",
      "Beta_ 4\n",
      "Beta_ 6\n"
     ]
    }
   ],
   "source": [
    "Y_bar=np.mean(Y)\n",
    "print(\"The intervals for the following parameters exclude the overall mean:\")\n",
    "for i in range(p):\n",
    "    if (Y_bar < lower_ends[i] or Y_bar > upper_ends[i]):\n",
    "        print(\"Beta_\",i+1)"
   ]
  }
 ],
 "metadata": {
  "kernelspec": {
   "display_name": "Python 3",
   "language": "python",
   "name": "python3"
  },
  "language_info": {
   "codemirror_mode": {
    "name": "ipython",
    "version": 3
   },
   "file_extension": ".py",
   "mimetype": "text/x-python",
   "name": "python",
   "nbconvert_exporter": "python",
   "pygments_lexer": "ipython3",
   "version": "3.7.6"
  }
 },
 "nbformat": 4,
 "nbformat_minor": 2
}
